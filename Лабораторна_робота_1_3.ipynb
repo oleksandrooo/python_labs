{
  "nbformat": 4,
  "nbformat_minor": 0,
  "metadata": {
    "colab": {
      "provenance": [],
      "toc_visible": true,
      "mount_file_id": "11cA89wF2hKers2RcebU9E4mSLD2qORms",
      "authorship_tag": "ABX9TyNP62xFG4lFup1TfPMJSDYX",
      "include_colab_link": true
    },
    "kernelspec": {
      "name": "python3",
      "display_name": "Python 3"
    },
    "language_info": {
      "name": "python"
    }
  },
  "cells": [
    {
      "cell_type": "markdown",
      "metadata": {
        "id": "view-in-github",
        "colab_type": "text"
      },
      "source": [
        "<a href=\"https://colab.research.google.com/github/oleksandrooo/python_labs/blob/master/%D0%9B%D0%B0%D0%B1%D0%BE%D1%80%D0%B0%D1%82%D0%BE%D1%80%D0%BD%D0%B0_%D1%80%D0%BE%D0%B1%D0%BE%D1%82%D0%B0_1_3.ipynb\" target=\"_parent\"><img src=\"https://colab.research.google.com/assets/colab-badge.svg\" alt=\"Open In Colab\"/></a>"
      ]
    },
    {
      "cell_type": "markdown",
      "source": [
        "# Лаборатора робота 1\n",
        "\n",
        "---\n",
        "\n",
        "Описова статистика"
      ],
      "metadata": {
        "id": "VKqNDCb-TqMn"
      }
    },
    {
      "cell_type": "markdown",
      "source": [
        "## Завдання 1\n",
        "\n",
        "---\n",
        "\n",
        "Проаналізували показники ціни одиниці товару в мережі магазинів «Т», Xi\n",
        "за ІІ квартал 2018 року.\n",
        "\n",
        "Xi 9,50 9,56 9,68 9,90 10,03 10,50 10,52\n",
        "\n",
        "ni 2 2 1 2 3 1 1\n"
      ],
      "metadata": {
        "id": "w05Ubk60DvR0"
      }
    },
    {
      "cell_type": "code",
      "source": [
        "import numpy as np\n",
        "import pandas as pd\n",
        "import statistics as st\n",
        "import matplotlib.pyplot as plt\n",
        "import seaborn as sns\n",
        "from scipy import stats"
      ],
      "metadata": {
        "id": "urGGVZTpDyvA"
      },
      "execution_count": null,
      "outputs": []
    },
    {
      "cell_type": "markdown",
      "source": [
        "Перетворюємо вхідні дані у зручний для обробки вигляд"
      ],
      "metadata": {
        "id": "6FXJZUgmTjFP"
      }
    },
    {
      "cell_type": "code",
      "source": [
        "input_data = {9.5: 2,\n",
        "              9.56: 2,\n",
        "              9.68: 1,\n",
        "              9.9: 2,\n",
        "              10.03: 3,\n",
        "              10.5: 1,\n",
        "              10.52: 1}\n",
        "data_list = [[key]*value for key, value in input_data.items()]\n",
        "data = sum(data_list, [])\n",
        "\n",
        "data"
      ],
      "metadata": {
        "id": "Zd2Q80upE5oM",
        "colab": {
          "base_uri": "https://localhost:8080/"
        },
        "outputId": "0fb9846e-1487-4ed2-e60d-10ee4b58cfca"
      },
      "execution_count": null,
      "outputs": [
        {
          "output_type": "execute_result",
          "data": {
            "text/plain": [
              "[9.5, 9.5, 9.56, 9.56, 9.68, 9.9, 9.9, 10.03, 10.03, 10.03, 10.5, 10.52]"
            ]
          },
          "metadata": {},
          "execution_count": 540
        }
      ]
    },
    {
      "cell_type": "markdown",
      "source": [
        "Середнє арифметичне"
      ],
      "metadata": {
        "id": "9GL8b8eIFYhY"
      }
    },
    {
      "cell_type": "code",
      "source": [
        "st.mean(data)\n"
      ],
      "metadata": {
        "colab": {
          "base_uri": "https://localhost:8080/"
        },
        "id": "Nxou8aqHFckZ",
        "outputId": "eab37a23-84e8-47f4-b332-a366a8dc299e"
      },
      "execution_count": null,
      "outputs": [
        {
          "output_type": "execute_result",
          "data": {
            "text/plain": [
              "9.8925"
            ]
          },
          "metadata": {},
          "execution_count": 541
        }
      ]
    },
    {
      "cell_type": "markdown",
      "source": [
        "Середнє гармонійне"
      ],
      "metadata": {
        "id": "wFLDVDWJF1x3"
      }
    },
    {
      "cell_type": "code",
      "source": [
        "st.harmonic_mean(input_data.keys(), input_data.values())\n"
      ],
      "metadata": {
        "colab": {
          "base_uri": "https://localhost:8080/"
        },
        "id": "-HoMsCZbFz-_",
        "outputId": "8555ea88-160a-4063-d6ba-7191f9bd8cdc"
      },
      "execution_count": null,
      "outputs": [
        {
          "output_type": "execute_result",
          "data": {
            "text/plain": [
              "9.880974235288214"
            ]
          },
          "metadata": {},
          "execution_count": 542
        }
      ]
    },
    {
      "cell_type": "markdown",
      "source": [
        "Медіана"
      ],
      "metadata": {
        "id": "B0ViFOawFsDv"
      }
    },
    {
      "cell_type": "code",
      "source": [
        "st.median(data)\n"
      ],
      "metadata": {
        "colab": {
          "base_uri": "https://localhost:8080/"
        },
        "id": "9umLzR2ZFumW",
        "outputId": "b53276d9-aeaa-4993-92a9-e018ef8e5f74"
      },
      "execution_count": null,
      "outputs": [
        {
          "output_type": "execute_result",
          "data": {
            "text/plain": [
              "9.9"
            ]
          },
          "metadata": {},
          "execution_count": 543
        }
      ]
    },
    {
      "cell_type": "markdown",
      "source": [
        "Мода"
      ],
      "metadata": {
        "id": "BDk9-gW6F0jI"
      }
    },
    {
      "cell_type": "code",
      "source": [
        "st.mode(data)"
      ],
      "metadata": {
        "colab": {
          "base_uri": "https://localhost:8080/"
        },
        "id": "bV01GlpSHa33",
        "outputId": "36ecc673-8da9-4cb4-c81c-10fd7c70bba7"
      },
      "execution_count": null,
      "outputs": [
        {
          "output_type": "execute_result",
          "data": {
            "text/plain": [
              "10.03"
            ]
          },
          "metadata": {},
          "execution_count": 544
        }
      ]
    },
    {
      "cell_type": "markdown",
      "source": [
        "Дисперсія"
      ],
      "metadata": {
        "id": "3d7cXJTgW0M_"
      }
    },
    {
      "cell_type": "code",
      "source": [
        "st.variance(data)"
      ],
      "metadata": {
        "colab": {
          "base_uri": "https://localhost:8080/"
        },
        "id": "EMEDgmGHW9mG",
        "outputId": "16099d9d-2769-4faa-a189-107d0529429a"
      },
      "execution_count": null,
      "outputs": [
        {
          "output_type": "execute_result",
          "data": {
            "text/plain": [
              "0.12672954545454532"
            ]
          },
          "metadata": {},
          "execution_count": 545
        }
      ]
    },
    {
      "cell_type": "markdown",
      "source": [
        "Стандартне відхилення"
      ],
      "metadata": {
        "id": "IrMwRx0NXKVC"
      }
    },
    {
      "cell_type": "code",
      "source": [
        "st.stdev(data)"
      ],
      "metadata": {
        "colab": {
          "base_uri": "https://localhost:8080/"
        },
        "id": "V13qUkFGXMna",
        "outputId": "4aa83745-ff20-4714-8879-653aa5bf048d"
      },
      "execution_count": null,
      "outputs": [
        {
          "output_type": "execute_result",
          "data": {
            "text/plain": [
              "0.35599093451174474"
            ]
          },
          "metadata": {},
          "execution_count": 546
        }
      ]
    },
    {
      "cell_type": "markdown",
      "source": [
        "Коефіцієнт варіації"
      ],
      "metadata": {
        "id": "4SvlVuYHHkAo"
      }
    },
    {
      "cell_type": "code",
      "source": [
        "(100*st.mode(data))/st.mean(data)"
      ],
      "metadata": {
        "colab": {
          "base_uri": "https://localhost:8080/"
        },
        "id": "SV3PQwrvUD4I",
        "outputId": "742975f7-bd5a-462c-b9c9-fa5bfaa94a7c"
      },
      "execution_count": null,
      "outputs": [
        {
          "output_type": "execute_result",
          "data": {
            "text/plain": [
              "101.38994187515793"
            ]
          },
          "metadata": {},
          "execution_count": 547
        }
      ]
    },
    {
      "cell_type": "markdown",
      "source": [
        "Мінімальне значення"
      ],
      "metadata": {
        "id": "nCheZ144YV01"
      }
    },
    {
      "cell_type": "code",
      "source": [
        "min(data)"
      ],
      "metadata": {
        "colab": {
          "base_uri": "https://localhost:8080/"
        },
        "id": "QraTHYn8YTs-",
        "outputId": "3aa5607e-0784-4f70-f48a-93fff33747be"
      },
      "execution_count": null,
      "outputs": [
        {
          "output_type": "execute_result",
          "data": {
            "text/plain": [
              "9.5"
            ]
          },
          "metadata": {},
          "execution_count": 548
        }
      ]
    },
    {
      "cell_type": "markdown",
      "source": [
        "Максимальне значення"
      ],
      "metadata": {
        "id": "S4zBzIRLYee2"
      }
    },
    {
      "cell_type": "code",
      "source": [
        "max(data)"
      ],
      "metadata": {
        "colab": {
          "base_uri": "https://localhost:8080/"
        },
        "id": "vzcsIzcLYgWV",
        "outputId": "c56cdefa-c0ca-439d-af37-1c95e71d44df"
      },
      "execution_count": null,
      "outputs": [
        {
          "output_type": "execute_result",
          "data": {
            "text/plain": [
              "10.52"
            ]
          },
          "metadata": {},
          "execution_count": 549
        }
      ]
    },
    {
      "cell_type": "markdown",
      "source": [
        "Квартиль"
      ],
      "metadata": {
        "id": "KAN3W5gpUbq-"
      }
    },
    {
      "cell_type": "code",
      "source": [
        "quantiles = st.quantiles(data = data, n=4, method = 'inclusive')\n",
        "quantiles"
      ],
      "metadata": {
        "colab": {
          "base_uri": "https://localhost:8080/"
        },
        "id": "L5mE6qIuUddT",
        "outputId": "d846c1f4-8ba0-431a-85d1-e78cae77457a"
      },
      "execution_count": null,
      "outputs": [
        {
          "output_type": "execute_result",
          "data": {
            "text/plain": [
              "[9.56, 9.9, 10.03]"
            ]
          },
          "metadata": {},
          "execution_count": 550
        }
      ]
    },
    {
      "cell_type": "markdown",
      "source": [
        "Перцентиль"
      ],
      "metadata": {
        "id": "aIXFiwkiUiFk"
      }
    },
    {
      "cell_type": "code",
      "source": [
        "percentile = np.percentile(data, [0, 25, 50, 75, 100])\n",
        "percentile"
      ],
      "metadata": {
        "colab": {
          "base_uri": "https://localhost:8080/"
        },
        "id": "EJQDlbxLUlYE",
        "outputId": "7ed29a49-d0fa-4655-fd86-bd9cc0a71029"
      },
      "execution_count": null,
      "outputs": [
        {
          "output_type": "execute_result",
          "data": {
            "text/plain": [
              "array([ 9.5 ,  9.56,  9.9 , 10.03, 10.52])"
            ]
          },
          "metadata": {},
          "execution_count": 551
        }
      ]
    },
    {
      "cell_type": "markdown",
      "source": [
        "Міжквартильний розмах"
      ],
      "metadata": {
        "id": "mrGQJxvwZTPK"
      }
    },
    {
      "cell_type": "code",
      "source": [
        "quantiles[-1] - percentile[0]"
      ],
      "metadata": {
        "colab": {
          "base_uri": "https://localhost:8080/"
        },
        "id": "z6txmR5dZWSD",
        "outputId": "3ac5e829-a219-4c21-cef2-fdfc24e16c34"
      },
      "execution_count": null,
      "outputs": [
        {
          "output_type": "execute_result",
          "data": {
            "text/plain": [
              "0.5299999999999994"
            ]
          },
          "metadata": {},
          "execution_count": 552
        }
      ]
    },
    {
      "cell_type": "markdown",
      "source": [
        "Графік зміни"
      ],
      "metadata": {
        "id": "JH2DsGSMZxEb"
      }
    },
    {
      "cell_type": "code",
      "source": [
        "plt.plot(data, 'go')"
      ],
      "metadata": {
        "colab": {
          "base_uri": "https://localhost:8080/",
          "height": 501
        },
        "id": "dKD3B3sRUtQD",
        "outputId": "fa99ff68-8a84-45dc-8abf-04f279129c55"
      },
      "execution_count": null,
      "outputs": [
        {
          "output_type": "execute_result",
          "data": {
            "text/plain": [
              "[<matplotlib.lines.Line2D at 0x7903d136d990>]"
            ]
          },
          "metadata": {},
          "execution_count": 553
        },
        {
          "output_type": "display_data",
          "data": {
            "text/plain": [
              "<Figure size 800x550 with 1 Axes>"
            ],
            "image/png": "[encoded data removed]"
          },
          "metadata": {}
        }
      ]
    },
    {
      "cell_type": "markdown",
      "source": [
        "## Завдання 2\n",
        "\n",
        "---\n",
        "\n",
        "2. Підібрати датасет для аналізу з набором даних понад 500 показників.\n",
        "3. Здійснити попередню обробку даних на прикладі описової статистики"
      ],
      "metadata": {
        "id": "U6fl0kxFaWx3"
      }
    },
    {
      "cell_type": "code",
      "source": [
        "data = pd.read_csv('/content/drive/MyDrive/healthcare_dataset.csv')\n",
        "data"
      ],
      "metadata": {
        "colab": {
          "base_uri": "https://localhost:8080/",
          "height": 580
        },
        "id": "O9pl6-pcwLnJ",
        "outputId": "ecbb1d84-4dc7-424a-ab20-5fa2f108adec"
      },
      "execution_count": null,
      "outputs": [
        {
          "output_type": "execute_result",
          "data": {
            "text/plain": [
              "                      Name  Age  Gender Blood Type Medical Condition  \\\n",
              "0          Tiffany Ramirez   81  Female         O-          Diabetes   \n",
              "1              Ruben Burns   35    Male         O+            Asthma   \n",
              "2                Chad Byrd   61    Male         B-           Obesity   \n",
              "3        Antonio Frederick   49    Male         B-            Asthma   \n",
              "4      Mrs. Brandy Flowers   51    Male         O-         Arthritis   \n",
              "...                    ...  ...     ...        ...               ...   \n",
              "9995            James Hood   83    Male         A+           Obesity   \n",
              "9996       Stephanie Evans   47  Female        AB+         Arthritis   \n",
              "9997  Christopher Martinez   54    Male         B-         Arthritis   \n",
              "9998           Amanda Duke   84    Male         A+         Arthritis   \n",
              "9999             Eric King   20    Male         B-         Arthritis   \n",
              "\n",
              "     Date of Admission             Doctor                   Hospital  \\\n",
              "0           2022-11-17     Patrick Parker           Wallace-Hamilton   \n",
              "1           2023-06-01      Diane Jackson  Burke, Griffin and Cooper   \n",
              "2           2019-01-09         Paul Baker                 Walton LLC   \n",
              "3           2020-05-02     Brian Chandler                 Garcia Ltd   \n",
              "4           2021-07-09     Dustin Griffin    Jones, Brown and Murray   \n",
              "...                ...                ...                        ...   \n",
              "9995        2022-07-29       Samuel Moody   Wood, Martin and Simmons   \n",
              "9996        2022-01-06  Christopher Yates               Nash-Krueger   \n",
              "9997        2022-07-01   Robert Nicholson            Larson and Sons   \n",
              "9998        2020-02-06        Jamie Lewis               Wilson-Lyons   \n",
              "9999        2023-03-22        Tasha Avila  Torres, Young and Stewart   \n",
              "\n",
              "     Insurance Provider  Billing Amount  Room Number Admission Type  \\\n",
              "0              Medicare    37490.983364          146       Elective   \n",
              "1      UnitedHealthcare    47304.064845          404      Emergency   \n",
              "2              Medicare    36874.896997          292      Emergency   \n",
              "3              Medicare    23303.322092          480         Urgent   \n",
              "4      UnitedHealthcare    18086.344184          477         Urgent   \n",
              "...                 ...             ...          ...            ...   \n",
              "9995   UnitedHealthcare    39606.840083          110       Elective   \n",
              "9996         Blue Cross     5995.717488          244      Emergency   \n",
              "9997         Blue Cross    49559.202905          312       Elective   \n",
              "9998   UnitedHealthcare    25236.344761          420         Urgent   \n",
              "9999              Aetna    37223.965865          290      Emergency   \n",
              "\n",
              "     Discharge Date   Medication  Test Results  \n",
              "0        2022-12-01      Aspirin  Inconclusive  \n",
              "1        2023-06-15      Lipitor        Normal  \n",
              "2        2019-02-08      Lipitor        Normal  \n",
              "3        2020-05-03   Penicillin      Abnormal  \n",
              "4        2021-08-02  Paracetamol        Normal  \n",
              "...             ...          ...           ...  \n",
              "9995     2022-08-02    Ibuprofen      Abnormal  \n",
              "9996     2022-01-29    Ibuprofen        Normal  \n",
              "9997     2022-07-15    Ibuprofen        Normal  \n",
              "9998     2020-02-26   Penicillin        Normal  \n",
              "9999     2023-04-15   Penicillin      Abnormal  \n",
              "\n",
              "[10000 rows x 15 columns]"
            ],
            "text/html": [
              "\n",
              "  <div id=\"df-7e4887fb-6aa6-4170-ab76-e2d5d286c449\" class=\"colab-df-container\">\n",
              "    <div>\n",
              "<style scoped>\n",
              "    .dataframe tbody tr th:only-of-type {\n",
              "        vertical-align: middle;\n",
              "    }\n",
              "\n",
              "    .dataframe tbody tr th {\n",
              "        vertical-align: top;\n",
              "    }\n",
              "\n",
              "    .dataframe thead th {\n",
              "        text-align: right;\n",
              "    }\n",
              "</style>\n",
              "<table border=\"1\" class=\"dataframe\">\n",
              "  <thead>\n",
              "    <tr style=\"text-align: right;\">\n",
              "      <th></th>\n",
              "      <th>Name</th>\n",
              "      <th>Age</th>\n",
              "      <th>Gender</th>\n",
              "      <th>Blood Type</th>\n",
              "      <th>Medical Condition</th>\n",
              "      <th>Date of Admission</th>\n",
              "      <th>Doctor</th>\n",
              "      <th>Hospital</th>\n",
              "      <th>Insurance Provider</th>\n",
              "      <th>Billing Amount</th>\n",
              "      <th>Room Number</th>\n",
              "      <th>Admission Type</th>\n",
              "      <th>Discharge Date</th>\n",
              "      <th>Medication</th>\n",
              "      <th>Test Results</th>\n",
              "    </tr>\n",
              "  </thead>\n",
              "  <tbody>\n",
              "    <tr>\n",
              "      <th>0</th>\n",
              "      <td>Tiffany Ramirez</td>\n",
              "      <td>81</td>\n",
              "      <td>Female</td>\n",
              "      <td>O-</td>\n",
              "      <td>Diabetes</td>\n",
              "      <td>2022-11-17</td>\n",
              "      <td>Patrick Parker</td>\n",
              "      <td>Wallace-Hamilton</td>\n",
              "      <td>Medicare</td>\n",
              "      <td>37490.983364</td>\n",
              "      <td>146</td>\n",
              "      <td>Elective</td>\n",
              "      <td>2022-12-01</td>\n",
              "      <td>Aspirin</td>\n",
              "      <td>Inconclusive</td>\n",
              "    </tr>\n",
              "    <tr>\n",
              "      <th>1</th>\n",
              "      <td>Ruben Burns</td>\n",
              "      <td>35</td>\n",
              "      <td>Male</td>\n",
              "      <td>O+</td>\n",
              "      <td>Asthma</td>\n",
              "      <td>2023-06-01</td>\n",
              "      <td>Diane Jackson</td>\n",
              "      <td>Burke, Griffin and Cooper</td>\n",
              "      <td>UnitedHealthcare</td>\n",
              "      <td>47304.064845</td>\n",
              "      <td>404</td>\n",
              "      <td>Emergency</td>\n",
              "      <td>2023-06-15</td>\n",
              "      <td>Lipitor</td>\n",
              "      <td>Normal</td>\n",
              "    </tr>\n",
              "    <tr>\n",
              "      <th>2</th>\n",
              "      <td>Chad Byrd</td>\n",
              "      <td>61</td>\n",
              "      <td>Male</td>\n",
              "      <td>B-</td>\n",
              "      <td>Obesity</td>\n",
              "      <td>2019-01-09</td>\n",
              "      <td>Paul Baker</td>\n",
              "      <td>Walton LLC</td>\n",
              "      <td>Medicare</td>\n",
              "      <td>36874.896997</td>\n",
              "      <td>292</td>\n",
              "      <td>Emergency</td>\n",
              "      <td>2019-02-08</td>\n",
              "      <td>Lipitor</td>\n",
              "      <td>Normal</td>\n",
              "    </tr>\n",
              "    <tr>\n",
              "      <th>3</th>\n",
              "      <td>Antonio Frederick</td>\n",
              "      <td>49</td>\n",
              "      <td>Male</td>\n",
              "      <td>B-</td>\n",
              "      <td>Asthma</td>\n",
              "      <td>2020-05-02</td>\n",
              "      <td>Brian Chandler</td>\n",
              "      <td>Garcia Ltd</td>\n",
              "      <td>Medicare</td>\n",
              "      <td>23303.322092</td>\n",
              "      <td>480</td>\n",
              "      <td>Urgent</td>\n",
              "      <td>2020-05-03</td>\n",
              "      <td>Penicillin</td>\n",
              "      <td>Abnormal</td>\n",
              "    </tr>\n",
              "    <tr>\n",
              "      <th>4</th>\n",
              "      <td>Mrs. Brandy Flowers</td>\n",
              "      <td>51</td>\n",
              "      <td>Male</td>\n",
              "      <td>O-</td>\n",
              "      <td>Arthritis</td>\n",
              "      <td>2021-07-09</td>\n",
              "      <td>Dustin Griffin</td>\n",
              "      <td>Jones, Brown and Murray</td>\n",
              "      <td>UnitedHealthcare</td>\n",
              "      <td>18086.344184</td>\n",
              "      <td>477</td>\n",
              "      <td>Urgent</td>\n",
              "      <td>2021-08-02</td>\n",
              "      <td>Paracetamol</td>\n",
              "      <td>Normal</td>\n",
              "    </tr>\n",
              "    <tr>\n",
              "      <th>...</th>\n",
              "      <td>...</td>\n",
              "      <td>...</td>\n",
              "      <td>...</td>\n",
              "      <td>...</td>\n",
              "      <td>...</td>\n",
              "      <td>...</td>\n",
              "      <td>...</td>\n",
              "      <td>...</td>\n",
              "      <td>...</td>\n",
              "      <td>...</td>\n",
              "      <td>...</td>\n",
              "      <td>...</td>\n",
              "      <td>...</td>\n",
              "      <td>...</td>\n",
              "      <td>...</td>\n",
              "    </tr>\n",
              "    <tr>\n",
              "      <th>9995</th>\n",
              "      <td>James Hood</td>\n",
              "      <td>83</td>\n",
              "      <td>Male</td>\n",
              "      <td>A+</td>\n",
              "      <td>Obesity</td>\n",
              "      <td>2022-07-29</td>\n",
              "      <td>Samuel Moody</td>\n",
              "      <td>Wood, Martin and Simmons</td>\n",
              "      <td>UnitedHealthcare</td>\n",
              "      <td>39606.840083</td>\n",
              "      <td>110</td>\n",
              "      <td>Elective</td>\n",
              "      <td>2022-08-02</td>\n",
              "      <td>Ibuprofen</td>\n",
              "      <td>Abnormal</td>\n",
              "    </tr>\n",
              "    <tr>\n",
              "      <th>9996</th>\n",
              "      <td>Stephanie Evans</td>\n",
              "      <td>47</td>\n",
              "      <td>Female</td>\n",
              "      <td>AB+</td>\n",
              "      <td>Arthritis</td>\n",
              "      <td>2022-01-06</td>\n",
              "      <td>Christopher Yates</td>\n",
              "      <td>Nash-Krueger</td>\n",
              "      <td>Blue Cross</td>\n",
              "      <td>5995.717488</td>\n",
              "      <td>244</td>\n",
              "      <td>Emergency</td>\n",
              "      <td>2022-01-29</td>\n",
              "      <td>Ibuprofen</td>\n",
              "      <td>Normal</td>\n",
              "    </tr>\n",
              "    <tr>\n",
              "      <th>9997</th>\n",
              "      <td>Christopher Martinez</td>\n",
              "      <td>54</td>\n",
              "      <td>Male</td>\n",
              "      <td>B-</td>\n",
              "      <td>Arthritis</td>\n",
              "      <td>2022-07-01</td>\n",
              "      <td>Robert Nicholson</td>\n",
              "      <td>Larson and Sons</td>\n",
              "      <td>Blue Cross</td>\n",
              "      <td>49559.202905</td>\n",
              "      <td>312</td>\n",
              "      <td>Elective</td>\n",
              "      <td>2022-07-15</td>\n",
              "      <td>Ibuprofen</td>\n",
              "      <td>Normal</td>\n",
              "    </tr>\n",
              "    <tr>\n",
              "      <th>9998</th>\n",
              "      <td>Amanda Duke</td>\n",
              "      <td>84</td>\n",
              "      <td>Male</td>\n",
              "      <td>A+</td>\n",
              "      <td>Arthritis</td>\n",
              "      <td>2020-02-06</td>\n",
              "      <td>Jamie Lewis</td>\n",
              "      <td>Wilson-Lyons</td>\n",
              "      <td>UnitedHealthcare</td>\n",
              "      <td>25236.344761</td>\n",
              "      <td>420</td>\n",
              "      <td>Urgent</td>\n",
              "      <td>2020-02-26</td>\n",
              "      <td>Penicillin</td>\n",
              "      <td>Normal</td>\n",
              "    </tr>\n",
              "    <tr>\n",
              "      <th>9999</th>\n",
              "      <td>Eric King</td>\n",
              "      <td>20</td>\n",
              "      <td>Male</td>\n",
              "      <td>B-</td>\n",
              "      <td>Arthritis</td>\n",
              "      <td>2023-03-22</td>\n",
              "      <td>Tasha Avila</td>\n",
              "      <td>Torres, Young and Stewart</td>\n",
              "      <td>Aetna</td>\n",
              "      <td>37223.965865</td>\n",
              "      <td>290</td>\n",
              "      <td>Emergency</td>\n",
              "      <td>2023-04-15</td>\n",
              "      <td>Penicillin</td>\n",
              "      <td>Abnormal</td>\n",
              "    </tr>\n",
              "  </tbody>\n",
              "</table>\n",
              "<p>10000 rows × 15 columns</p>\n",
              "</div>\n",
              "    <div class=\"colab-df-buttons\">\n",
              "\n",
              "  <div class=\"colab-df-container\">\n",
              "    <button class=\"colab-df-convert\" onclick=\"convertToInteractive('df-7e4887fb-6aa6-4170-ab76-e2d5d286c449')\"\n",
              "            title=\"Convert this dataframe to an interactive table.\"\n",
              "            style=\"display:none;\">\n",
              "\n",
              "  <svg xmlns=\"http://www.w3.org/2000/svg\" height=\"24px\" viewBox=\"0 -960 960 960\">\n",
              "    <path d=\"M120-120v-720h720v720H120Zm60-500h600v-160H180v160Zm220 220h160v-160H400v160Zm0 220h160v-160H400v160ZM180-400h160v-160H180v160Zm440 0h160v-160H620v160ZM180-180h160v-160H180v160Zm440 0h160v-160H620v160Z\"/>\n",
              "  </svg>\n",
              "    </button>\n",
              "\n",
              "  <style>\n",
              "    .colab-df-container {\n",
              "      display:flex;\n",
              "      gap: 12px;\n",
              "    }\n",
              "\n",
              "    .colab-df-convert {\n",
              "      background-color: #E8F0FE;\n",
              "      border: none;\n",
              "      border-radius: 50%;\n",
              "      cursor: pointer;\n",
              "      display: none;\n",
              "      fill: #1967D2;\n",
              "      height: 32px;\n",
              "      padding: 0 0 0 0;\n",
              "      width: 32px;\n",
              "    }\n",
              "\n",
              "    .colab-df-convert:hover {\n",
              "      background-color: #E2EBFA;\n",
              "      box-shadow: 0px 1px 2px rgba(60, 64, 67, 0.3), 0px 1px 3px 1px rgba(60, 64, 67, 0.15);\n",
              "      fill: #174EA6;\n",
              "    }\n",
              "\n",
              "    .colab-df-buttons div {\n",
              "      margin-bottom: 4px;\n",
              "    }\n",
              "\n",
              "    [theme=dark] .colab-df-convert {\n",
              "      background-color: #3B4455;\n",
              "      fill: #D2E3FC;\n",
              "    }\n",
              "\n",
              "    [theme=dark] .colab-df-convert:hover {\n",
              "      background-color: #434B5C;\n",
              "      box-shadow: 0px 1px 3px 1px rgba(0, 0, 0, 0.15);\n",
              "      filter: drop-shadow(0px 1px 2px rgba(0, 0, 0, 0.3));\n",
              "      fill: #FFFFFF;\n",
              "    }\n",
              "  </style>\n",
              "\n",
              "    <script>\n",
              "      const buttonEl =\n",
              "        document.querySelector('#df-7e4887fb-6aa6-4170-ab76-e2d5d286c449 button.colab-df-convert');\n",
              "      buttonEl.style.display =\n",
              "        google.colab.kernel.accessAllowed ? 'block' : 'none';\n",
              "\n",
              "      async function convertToInteractive(key) {\n",
              "        const element = document.querySelector('#df-7e4887fb-6aa6-4170-ab76-e2d5d286c449');\n",
              "        const dataTable =\n",
              "          await google.colab.kernel.invokeFunction('convertToInteractive',\n",
              "                                                    [key], {});\n",
              "        if (!dataTable) return;\n",
              "\n",
              "        const docLinkHtml = 'Like what you see? Visit the ' +\n",
              "          '<a target=\"_blank\" href=https://colab.research.google.com/notebooks/data_table.ipynb>data table notebook</a>'\n",
              "          + ' to learn more about interactive tables.';\n",
              "        element.innerHTML = '';\n",
              "        dataTable['output_type'] = 'display_data';\n",
              "        await google.colab.output.renderOutput(dataTable, element);\n",
              "        const docLink = document.createElement('div');\n",
              "        docLink.innerHTML = docLinkHtml;\n",
              "        element.appendChild(docLink);\n",
              "      }\n",
              "    </script>\n",
              "  </div>\n",
              "\n",
              "\n",
              "<div id=\"df-fcefe518-c715-4dcf-b24e-a872c3ed07e1\">\n",
              "  <button class=\"colab-df-quickchart\" onclick=\"quickchart('df-fcefe518-c715-4dcf-b24e-a872c3ed07e1')\"\n",
              "            title=\"Suggest charts\"\n",
              "            style=\"display:none;\">\n",
              "\n",
              "<svg xmlns=\"http://www.w3.org/2000/svg\" height=\"24px\"viewBox=\"0 0 24 24\"\n",
              "     width=\"24px\">\n",
              "    <g>\n",
              "        <path d=\"M19 3H5c-1.1 0-2 .9-2 2v14c0 1.1.9 2 2 2h14c1.1 0 2-.9 2-2V5c0-1.1-.9-2-2-2zM9 17H7v-7h2v7zm4 0h-2V7h2v10zm4 0h-2v-4h2v4z\"/>\n",
              "    </g>\n",
              "</svg>\n",
              "  </button>\n",
              "\n",
              "<style>\n",
              "  .colab-df-quickchart {\n",
              "      --bg-color: #E8F0FE;\n",
              "      --fill-color: #1967D2;\n",
              "      --hover-bg-color: #E2EBFA;\n",
              "      --hover-fill-color: #174EA6;\n",
              "      --disabled-fill-color: #AAA;\n",
              "      --disabled-bg-color: #DDD;\n",
              "  }\n",
              "\n",
              "  [theme=dark] .colab-df-quickchart {\n",
              "      --bg-color: #3B4455;\n",
              "      --fill-color: #D2E3FC;\n",
              "      --hover-bg-color: #434B5C;\n",
              "      --hover-fill-color: #FFFFFF;\n",
              "      --disabled-bg-color: #3B4455;\n",
              "      --disabled-fill-color: #666;\n",
              "  }\n",
              "\n",
              "  .colab-df-quickchart {\n",
              "    background-color: var(--bg-color);\n",
              "    border: none;\n",
              "    border-radius: 50%;\n",
              "    cursor: pointer;\n",
              "    display: none;\n",
              "    fill: var(--fill-color);\n",
              "    height: 32px;\n",
              "    padding: 0;\n",
              "    width: 32px;\n",
              "  }\n",
              "\n",
              "  .colab-df-quickchart:hover {\n",
              "    background-color: var(--hover-bg-color);\n",
              "    box-shadow: 0 1px 2px rgba(60, 64, 67, 0.3), 0 1px 3px 1px rgba(60, 64, 67, 0.15);\n",
              "    fill: var(--button-hover-fill-color);\n",
              "  }\n",
              "\n",
              "  .colab-df-quickchart-complete:disabled,\n",
              "  .colab-df-quickchart-complete:disabled:hover {\n",
              "    background-color: var(--disabled-bg-color);\n",
              "    fill: var(--disabled-fill-color);\n",
              "    box-shadow: none;\n",
              "  }\n",
              "\n",
              "  .colab-df-spinner {\n",
              "    border: 2px solid var(--fill-color);\n",
              "    border-color: transparent;\n",
              "    border-bottom-color: var(--fill-color);\n",
              "    animation:\n",
              "      spin 1s steps(1) infinite;\n",
              "  }\n",
              "\n",
              "  @keyframes spin {\n",
              "    0% {\n",
              "      border-color: transparent;\n",
              "      border-bottom-color: var(--fill-color);\n",
              "      border-left-color: var(--fill-color);\n",
              "    }\n",
              "    20% {\n",
              "      border-color: transparent;\n",
              "      border-left-color: var(--fill-color);\n",
              "      border-top-color: var(--fill-color);\n",
              "    }\n",
              "    30% {\n",
              "      border-color: transparent;\n",
              "      border-left-color: var(--fill-color);\n",
              "      border-top-color: var(--fill-color);\n",
              "      border-right-color: var(--fill-color);\n",
              "    }\n",
              "    40% {\n",
              "      border-color: transparent;\n",
              "      border-right-color: var(--fill-color);\n",
              "      border-top-color: var(--fill-color);\n",
              "    }\n",
              "    60% {\n",
              "      border-color: transparent;\n",
              "      border-right-color: var(--fill-color);\n",
              "    }\n",
              "    80% {\n",
              "      border-color: transparent;\n",
              "      border-right-color: var(--fill-color);\n",
              "      border-bottom-color: var(--fill-color);\n",
              "    }\n",
              "    90% {\n",
              "      border-color: transparent;\n",
              "      border-bottom-color: var(--fill-color);\n",
              "    }\n",
              "  }\n",
              "</style>\n",
              "\n",
              "  <script>\n",
              "    async function quickchart(key) {\n",
              "      const quickchartButtonEl =\n",
              "        document.querySelector('#' + key + ' button');\n",
              "      quickchartButtonEl.disabled = true;  // To prevent multiple clicks.\n",
              "      quickchartButtonEl.classList.add('colab-df-spinner');\n",
              "      try {\n",
              "        const charts = await google.colab.kernel.invokeFunction(\n",
              "            'suggestCharts', [key], {});\n",
              "      } catch (error) {\n",
              "        console.error('Error during call to suggestCharts:', error);\n",
              "      }\n",
              "      quickchartButtonEl.classList.remove('colab-df-spinner');\n",
              "      quickchartButtonEl.classList.add('colab-df-quickchart-complete');\n",
              "    }\n",
              "    (() => {\n",
              "      let quickchartButtonEl =\n",
              "        document.querySelector('#df-fcefe518-c715-4dcf-b24e-a872c3ed07e1 button');\n",
              "      quickchartButtonEl.style.display =\n",
              "        google.colab.kernel.accessAllowed ? 'block' : 'none';\n",
              "    })();\n",
              "  </script>\n",
              "</div>\n",
              "    </div>\n",
              "  </div>\n"
            ]
          },
          "metadata": {},
          "execution_count": 554
        }
      ]
    },
    {
      "cell_type": "markdown",
      "source": [
        "Знайдемо середній вік пацієнтів"
      ],
      "metadata": {
        "id": "bpQuCRd1s3WC"
      }
    },
    {
      "cell_type": "code",
      "source": [
        "st.mean(data['Age'])"
      ],
      "metadata": {
        "colab": {
          "base_uri": "https://localhost:8080/"
        },
        "id": "_21D4qJStG5F",
        "outputId": "0295c0e7-3adc-47ab-c640-946fee33679a"
      },
      "execution_count": null,
      "outputs": [
        {
          "output_type": "execute_result",
          "data": {
            "text/plain": [
              "51.4522"
            ]
          },
          "metadata": {},
          "execution_count": 555
        }
      ]
    },
    {
      "cell_type": "markdown",
      "source": [
        "Знайдемо медіану віку пацієнтів"
      ],
      "metadata": {
        "id": "lztBE6BEtUQd"
      }
    },
    {
      "cell_type": "code",
      "source": [
        "st.median(data['Age'])"
      ],
      "metadata": {
        "colab": {
          "base_uri": "https://localhost:8080/"
        },
        "id": "_cWFzEqutaKt",
        "outputId": "fec85cb4-d0fa-4198-b8f2-5d881069849e"
      },
      "execution_count": null,
      "outputs": [
        {
          "output_type": "execute_result",
          "data": {
            "text/plain": [
              "52.0"
            ]
          },
          "metadata": {},
          "execution_count": 556
        }
      ]
    },
    {
      "cell_type": "markdown",
      "source": [
        "Знайдемо вік наймолодшого та найстаршого пацієнта"
      ],
      "metadata": {
        "id": "GnORXJgjvrQh"
      }
    },
    {
      "cell_type": "code",
      "source": [
        "min(data['Age'])"
      ],
      "metadata": {
        "colab": {
          "base_uri": "https://localhost:8080/"
        },
        "id": "SD8mcZbAwB5h",
        "outputId": "bda7ed61-af7f-4f47-f559-f96fe858d932"
      },
      "execution_count": null,
      "outputs": [
        {
          "output_type": "execute_result",
          "data": {
            "text/plain": [
              "18"
            ]
          },
          "metadata": {},
          "execution_count": 557
        }
      ]
    },
    {
      "cell_type": "code",
      "source": [
        "max(data['Age'])"
      ],
      "metadata": {
        "colab": {
          "base_uri": "https://localhost:8080/"
        },
        "id": "EAK4n17owSJ9",
        "outputId": "333933ed-00b8-438e-9264-fb77da9b72d9"
      },
      "execution_count": null,
      "outputs": [
        {
          "output_type": "execute_result",
          "data": {
            "text/plain": [
              "85"
            ]
          },
          "metadata": {},
          "execution_count": 558
        }
      ]
    },
    {
      "cell_type": "markdown",
      "source": [
        "Знайдемо дисперсію"
      ],
      "metadata": {
        "id": "tS0az7TPwYf1"
      }
    },
    {
      "cell_type": "code",
      "source": [
        "st.variance(data['Age'])"
      ],
      "metadata": {
        "colab": {
          "base_uri": "https://localhost:8080/"
        },
        "id": "nwZ-00gOwaQ-",
        "outputId": "7a135c84-b771-4672-9f96-ab45e42a6035"
      },
      "execution_count": null,
      "outputs": [
        {
          "output_type": "execute_result",
          "data": {
            "text/plain": [
              "383.7278879487949"
            ]
          },
          "metadata": {},
          "execution_count": 559
        }
      ]
    },
    {
      "cell_type": "markdown",
      "source": [
        "Побудуємо гістограми розподілу за віком, сумою медичних послуг, та номером палати"
      ],
      "metadata": {
        "id": "DvwoXRs1uI0r"
      }
    },
    {
      "cell_type": "code",
      "source": [
        "data.hist(bins=50, figsize=(12,8))\n",
        "plt.show()\n"
      ],
      "metadata": {
        "colab": {
          "base_uri": "https://localhost:8080/",
          "height": 697
        },
        "id": "ZiKjuz3bt_jy",
        "outputId": "8dc4d0a5-713b-49b0-f402-06b10efd1a6d"
      },
      "execution_count": null,
      "outputs": [
        {
          "output_type": "display_data",
          "data": {
            "text/plain": [
              "<Figure size 1200x800 with 4 Axes>"
            ],
            "image/png": "[encoded data removed]"
          },
          "metadata": {}
        }
      ]
    },
    {
      "cell_type": "markdown",
      "source": [
        "Побудуємо графіки для наступних колонок: 'Gender','Blood Type', 'Medical Condition', 'Insurance Provider', 'Admission Type', 'Medication', 'Test Results'"
      ],
      "metadata": {
        "id": "tMd3SUVPuWJh"
      }
    },
    {
      "cell_type": "code",
      "source": [
        "cols = ['Gender','Blood Type', 'Medical Condition',\n",
        "        'Insurance Provider', 'Admission Type',\n",
        "        'Medication', 'Test Results']\n",
        "for i in cols:\n",
        "\n",
        "    if i == 'Gender':\n",
        "\n",
        "        fig, ax = plt.subplots(1, 2)\n",
        "        fig.suptitle('** Gender **', fontsize=20)\n",
        "        plt.style.use('seaborn')\n",
        "        plt.subplot(1,2,1)\n",
        "        data['Gender'].value_counts().plot(kind='bar',color=sns.color_palette(\"tab10\"))\n",
        "        plt.subplot(1,2,2)\n",
        "        data['Gender'].value_counts().plot(kind='pie',autopct=\"%.2f%%\")\n",
        "        plt.show()\n",
        "\n",
        "    else:\n",
        "        fig, ax = plt.subplots(1, 2)\n",
        "        fig.suptitle('** ' + i + ' **', fontsize=20)\n",
        "        plt.style.use('seaborn')\n",
        "        plt.subplot(1,2,1)\n",
        "        data[i].value_counts().plot(kind='bar',color=sns.color_palette(\"tab10\"))\n",
        "        plt.subplot(1,2,2)\n",
        "        data[i].value_counts().plot(kind='pie',autopct=\"%.2f%%\")\n",
        "        plt.show()"
      ],
      "metadata": {
        "colab": {
          "base_uri": "https://localhost:8080/",
          "height": 1000
        },
        "id": "nfAdTuErux4F",
        "outputId": "e80c2b65-334d-4a3a-97c0-889eb813350f"
      },
      "execution_count": null,
      "outputs": [
        {
          "output_type": "stream",
          "name": "stderr",
          "text": [
            "<ipython-input-561-cd31ee8cee9e>:10: MatplotlibDeprecationWarning: The seaborn styles shipped by Matplotlib are deprecated since 3.6, as they no longer correspond to the styles shipped by seaborn. However, they will remain available as 'seaborn-v0_8-<style>'. Alternatively, directly use the seaborn API instead.\n",
            "  plt.style.use('seaborn')\n"
          ]
        },
        {
          "output_type": "display_data",
          "data": {
            "text/plain": [
              "<Figure size 800x550 with 2 Axes>"
            ],
            "image/png": "[encoded data removed]"
          },
          "metadata": {}
        },
        {
          "output_type": "stream",
          "name": "stderr",
          "text": [
            "<ipython-input-561-cd31ee8cee9e>:20: MatplotlibDeprecationWarning: The seaborn styles shipped by Matplotlib are deprecated since 3.6, as they no longer correspond to the styles shipped by seaborn. However, they will remain available as 'seaborn-v0_8-<style>'. Alternatively, directly use the seaborn API instead.\n",
            "  plt.style.use('seaborn')\n"
          ]
        },
        {
          "output_type": "display_data",
          "data": {
            "text/plain": [
              "<Figure size 800x550 with 2 Axes>"
            ],
            "image/png": "[encoded data removed]"
          },
          "metadata": {}
        },
        {
          "output_type": "stream",
          "name": "stderr",
          "text": [
            "<ipython-input-561-cd31ee8cee9e>:20: MatplotlibDeprecationWarning: The seaborn styles shipped by Matplotlib are deprecated since 3.6, as they no longer correspond to the styles shipped by seaborn. However, they will remain available as 'seaborn-v0_8-<style>'. Alternatively, directly use the seaborn API instead.\n",
            "  plt.style.use('seaborn')\n"
          ]
        },
        {
          "output_type": "display_data",
          "data": {
            "text/plain": [
              "<Figure size 800x550 with 2 Axes>"
            ],
            "image/png": "[encoded data removed]"
          },
          "metadata": {}
        },
        {
          "output_type": "stream",
          "name": "stderr",
          "text": [
            "<ipython-input-561-cd31ee8cee9e>:20: MatplotlibDeprecationWarning: The seaborn styles shipped by Matplotlib are deprecated since 3.6, as they no longer correspond to the styles shipped by seaborn. However, they will remain available as 'seaborn-v0_8-<style>'. Alternatively, directly use the seaborn API instead.\n",
            "  plt.style.use('seaborn')\n"
          ]
        },
        {
          "output_type": "display_data",
          "data": {
            "text/plain": [
              "<Figure size 800x550 with 2 Axes>"
            ],
            "image/png": "[encoded data removed]"
          },
          "metadata": {}
        },
        {
          "output_type": "stream",
          "name": "stderr",
          "text": [
            "<ipython-input-561-cd31ee8cee9e>:20: MatplotlibDeprecationWarning: The seaborn styles shipped by Matplotlib are deprecated since 3.6, as they no longer correspond to the styles shipped by seaborn. However, they will remain available as 'seaborn-v0_8-<style>'. Alternatively, directly use the seaborn API instead.\n",
            "  plt.style.use('seaborn')\n"
          ]
        },
        {
          "output_type": "display_data",
          "data": {
            "text/plain": [
              "<Figure size 800x550 with 2 Axes>"
            ],
            "image/png": "[encoded data removed]"
          },
          "metadata": {}
        },
        {
          "output_type": "stream",
          "name": "stderr",
          "text": [
            "<ipython-input-561-cd31ee8cee9e>:20: MatplotlibDeprecationWarning: The seaborn styles shipped by Matplotlib are deprecated since 3.6, as they no longer correspond to the styles shipped by seaborn. However, they will remain available as 'seaborn-v0_8-<style>'. Alternatively, directly use the seaborn API instead.\n",
            "  plt.style.use('seaborn')\n"
          ]
        },
        {
          "output_type": "display_data",
          "data": {
            "text/plain": [
              "<Figure size 800x550 with 2 Axes>"
            ],
            "image/png": "[encoded data removed]"
          },
          "metadata": {}
        },
        {
          "output_type": "stream",
          "name": "stderr",
          "text": [
            "<ipython-input-561-cd31ee8cee9e>:20: MatplotlibDeprecationWarning: The seaborn styles shipped by Matplotlib are deprecated since 3.6, as they no longer correspond to the styles shipped by seaborn. However, they will remain available as 'seaborn-v0_8-<style>'. Alternatively, directly use the seaborn API instead.\n",
            "  plt.style.use('seaborn')\n"
          ]
        },
        {
          "output_type": "display_data",
          "data": {
            "text/plain": [
              "<Figure size 800x550 with 2 Axes>"
            ],
            "image/png": "[encoded data removed]"
          },
          "metadata": {}
        }
      ]
    },
    {
      "cell_type": "markdown",
      "source": [
        "# Лабораторна робота 2\n",
        "\n",
        "---\n",
        "Перевірка статистичних гіпотез. Параметричні та непараметричні\n",
        "критерії\n"
      ],
      "metadata": {
        "id": "4d257thgbDdk"
      }
    },
    {
      "cell_type": "markdown",
      "source": [
        "## Завдання 1\n",
        "\n",
        "\n",
        "---\n",
        "\n",
        "Оцінити швидкість обробки зорової інформації у двох групах Xi, біт / с і Yi, біт / с."
      ],
      "metadata": {
        "id": "Pj79KRGD23TM"
      }
    },
    {
      "cell_type": "markdown",
      "source": [
        "Перетворюємо вхідні дані у зручний для обробки вигляд"
      ],
      "metadata": {
        "id": "o0O7y91xy2Ud"
      }
    },
    {
      "cell_type": "code",
      "source": [
        "x_list = {2.83: 10,\n",
        "          2.86: 12,\n",
        "          2.88: 14,\n",
        "          2.92: 16,\n",
        "          2.93: 10,\n",
        "          2.95: 9}\n",
        "\n",
        "y_list = {2.91: 10,\n",
        "          2.93: 11,\n",
        "          2.98: 13,\n",
        "          3.07: 15,\n",
        "          3.13: 12,\n",
        "          3.15: 10}\n",
        "\n",
        "x_data_list = [[key]*value for key, value in x_list.items()]\n",
        "x = sum(x_data_list, [])\n",
        "\n",
        "y_data_list = [[key]*value for key, value in y_list.items()]\n",
        "y = sum(y_data_list, [])"
      ],
      "metadata": {
        "id": "LcgUHnwpzB4j"
      },
      "execution_count": null,
      "outputs": []
    },
    {
      "cell_type": "code",
      "source": [
        "x"
      ],
      "metadata": {
        "colab": {
          "base_uri": "https://localhost:8080/"
        },
        "id": "v1pC0bTq44AN",
        "outputId": "f7999fe4-0f50-4e51-f9cf-1ed203196881"
      },
      "execution_count": null,
      "outputs": [
        {
          "output_type": "execute_result",
          "data": {
            "text/plain": [
              "[2.83,\n",
              " 2.83,\n",
              " 2.83,\n",
              " 2.83,\n",
              " 2.83,\n",
              " 2.83,\n",
              " 2.83,\n",
              " 2.83,\n",
              " 2.83,\n",
              " 2.83,\n",
              " 2.86,\n",
              " 2.86,\n",
              " 2.86,\n",
              " 2.86,\n",
              " 2.86,\n",
              " 2.86,\n",
              " 2.86,\n",
              " 2.86,\n",
              " 2.86,\n",
              " 2.86,\n",
              " 2.86,\n",
              " 2.86,\n",
              " 2.88,\n",
              " 2.88,\n",
              " 2.88,\n",
              " 2.88,\n",
              " 2.88,\n",
              " 2.88,\n",
              " 2.88,\n",
              " 2.88,\n",
              " 2.88,\n",
              " 2.88,\n",
              " 2.88,\n",
              " 2.88,\n",
              " 2.88,\n",
              " 2.88,\n",
              " 2.92,\n",
              " 2.92,\n",
              " 2.92,\n",
              " 2.92,\n",
              " 2.92,\n",
              " 2.92,\n",
              " 2.92,\n",
              " 2.92,\n",
              " 2.92,\n",
              " 2.92,\n",
              " 2.92,\n",
              " 2.92,\n",
              " 2.92,\n",
              " 2.92,\n",
              " 2.92,\n",
              " 2.92,\n",
              " 2.93,\n",
              " 2.93,\n",
              " 2.93,\n",
              " 2.93,\n",
              " 2.93,\n",
              " 2.93,\n",
              " 2.93,\n",
              " 2.93,\n",
              " 2.93,\n",
              " 2.93,\n",
              " 2.95,\n",
              " 2.95,\n",
              " 2.95,\n",
              " 2.95,\n",
              " 2.95,\n",
              " 2.95,\n",
              " 2.95,\n",
              " 2.95,\n",
              " 2.95]"
            ]
          },
          "metadata": {},
          "execution_count": 563
        }
      ]
    },
    {
      "cell_type": "code",
      "source": [
        "y"
      ],
      "metadata": {
        "colab": {
          "base_uri": "https://localhost:8080/"
        },
        "id": "wbG2ys8445a0",
        "outputId": "0c56032a-3981-4b64-f3dc-798bd395a7c1"
      },
      "execution_count": null,
      "outputs": [
        {
          "output_type": "execute_result",
          "data": {
            "text/plain": [
              "[2.91,\n",
              " 2.91,\n",
              " 2.91,\n",
              " 2.91,\n",
              " 2.91,\n",
              " 2.91,\n",
              " 2.91,\n",
              " 2.91,\n",
              " 2.91,\n",
              " 2.91,\n",
              " 2.93,\n",
              " 2.93,\n",
              " 2.93,\n",
              " 2.93,\n",
              " 2.93,\n",
              " 2.93,\n",
              " 2.93,\n",
              " 2.93,\n",
              " 2.93,\n",
              " 2.93,\n",
              " 2.93,\n",
              " 2.98,\n",
              " 2.98,\n",
              " 2.98,\n",
              " 2.98,\n",
              " 2.98,\n",
              " 2.98,\n",
              " 2.98,\n",
              " 2.98,\n",
              " 2.98,\n",
              " 2.98,\n",
              " 2.98,\n",
              " 2.98,\n",
              " 2.98,\n",
              " 3.07,\n",
              " 3.07,\n",
              " 3.07,\n",
              " 3.07,\n",
              " 3.07,\n",
              " 3.07,\n",
              " 3.07,\n",
              " 3.07,\n",
              " 3.07,\n",
              " 3.07,\n",
              " 3.07,\n",
              " 3.07,\n",
              " 3.07,\n",
              " 3.07,\n",
              " 3.07,\n",
              " 3.13,\n",
              " 3.13,\n",
              " 3.13,\n",
              " 3.13,\n",
              " 3.13,\n",
              " 3.13,\n",
              " 3.13,\n",
              " 3.13,\n",
              " 3.13,\n",
              " 3.13,\n",
              " 3.13,\n",
              " 3.13,\n",
              " 3.15,\n",
              " 3.15,\n",
              " 3.15,\n",
              " 3.15,\n",
              " 3.15,\n",
              " 3.15,\n",
              " 3.15,\n",
              " 3.15,\n",
              " 3.15,\n",
              " 3.15]"
            ]
          },
          "metadata": {},
          "execution_count": 564
        }
      ]
    },
    {
      "cell_type": "markdown",
      "source": [
        "Знаходимо параметри для вибірки **Х**: кількість елементів, середнє арифметичне, дисперсію, та стандартне відхилення"
      ],
      "metadata": {
        "id": "Ta-4YpzF7uV5"
      }
    },
    {
      "cell_type": "code",
      "source": [
        "x_len = len(x)\n",
        "x_len"
      ],
      "metadata": {
        "colab": {
          "base_uri": "https://localhost:8080/"
        },
        "id": "XAlis4Qg6sdt",
        "outputId": "f23f892f-54a1-4c7a-ebb1-4280f9543b45"
      },
      "execution_count": null,
      "outputs": [
        {
          "output_type": "execute_result",
          "data": {
            "text/plain": [
              "71"
            ]
          },
          "metadata": {},
          "execution_count": 565
        }
      ]
    },
    {
      "cell_type": "code",
      "source": [
        "x_avg = st.mean(x)\n",
        "x_avg"
      ],
      "metadata": {
        "colab": {
          "base_uri": "https://localhost:8080/"
        },
        "id": "9FUPI1gh61qY",
        "outputId": "8d03af3b-8d35-4dd9-e9bc-1deb4d7b4734"
      },
      "execution_count": null,
      "outputs": [
        {
          "output_type": "execute_result",
          "data": {
            "text/plain": [
              "2.894507042253521"
            ]
          },
          "metadata": {},
          "execution_count": 566
        }
      ]
    },
    {
      "cell_type": "code",
      "source": [
        "x_var = st.variance(x)\n",
        "x_var"
      ],
      "metadata": {
        "colab": {
          "base_uri": "https://localhost:8080/"
        },
        "id": "UBeu5bb18FUt",
        "outputId": "a43c21df-546b-44cf-d225-fe8180ae5bde"
      },
      "execution_count": null,
      "outputs": [
        {
          "output_type": "execute_result",
          "data": {
            "text/plain": [
              "0.0015651106639839076"
            ]
          },
          "metadata": {},
          "execution_count": 567
        }
      ]
    },
    {
      "cell_type": "code",
      "source": [
        "x_std = st.stdev(x)\n",
        "x_std"
      ],
      "metadata": {
        "colab": {
          "base_uri": "https://localhost:8080/"
        },
        "id": "cMqKAC7Q8LVN",
        "outputId": "3f8aca96-a438-409e-8212-090dd6d8b803"
      },
      "execution_count": null,
      "outputs": [
        {
          "output_type": "execute_result",
          "data": {
            "text/plain": [
              "0.03956147954745762"
            ]
          },
          "metadata": {},
          "execution_count": 568
        }
      ]
    },
    {
      "cell_type": "markdown",
      "source": [
        "Повторюємо це саме для вибірки **Y**"
      ],
      "metadata": {
        "id": "6fJY0SBa8iF0"
      }
    },
    {
      "cell_type": "code",
      "source": [
        "y_len = len(y)\n",
        "y_len"
      ],
      "metadata": {
        "colab": {
          "base_uri": "https://localhost:8080/"
        },
        "id": "9l-2K5-h4TRZ",
        "outputId": "1f5640c1-1dbf-4dd8-d185-b1b49ed86b55"
      },
      "execution_count": null,
      "outputs": [
        {
          "output_type": "execute_result",
          "data": {
            "text/plain": [
              "71"
            ]
          },
          "metadata": {},
          "execution_count": 569
        }
      ]
    },
    {
      "cell_type": "code",
      "source": [
        "y_avg = st.mean(y)\n",
        "y_avg"
      ],
      "metadata": {
        "colab": {
          "base_uri": "https://localhost:8080/"
        },
        "id": "TDvNwZTj4WPp",
        "outputId": "dcc5e532-3992-4fb5-b431-33cebed68d44"
      },
      "execution_count": null,
      "outputs": [
        {
          "output_type": "execute_result",
          "data": {
            "text/plain": [
              "3.0307042253521126"
            ]
          },
          "metadata": {},
          "execution_count": 570
        }
      ]
    },
    {
      "cell_type": "code",
      "source": [
        "y_var = st.variance(y)\n",
        "y_var"
      ],
      "metadata": {
        "colab": {
          "base_uri": "https://localhost:8080/"
        },
        "id": "zWQ-3f844a7J",
        "outputId": "6aadfd6a-a376-4870-9e85-0732414b8c2f"
      },
      "execution_count": null,
      "outputs": [
        {
          "output_type": "execute_result",
          "data": {
            "text/plain": [
              "0.008206639839034186"
            ]
          },
          "metadata": {},
          "execution_count": 571
        }
      ]
    },
    {
      "cell_type": "code",
      "source": [
        "y_std = st.stdev(y)\n",
        "y_std"
      ],
      "metadata": {
        "colab": {
          "base_uri": "https://localhost:8080/"
        },
        "id": "y-gRiKaD5H5l",
        "outputId": "423a0193-e75e-43f5-d4ba-b3051c69ce5a"
      },
      "execution_count": null,
      "outputs": [
        {
          "output_type": "execute_result",
          "data": {
            "text/plain": [
              "0.0905905063405332"
            ]
          },
          "metadata": {},
          "execution_count": 572
        }
      ]
    },
    {
      "cell_type": "markdown",
      "source": [
        "Знаходимо критерій Стьюдента за формулою\n",
        "\n",
        " ![image.png](data:image/png;base64,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)"
      ],
      "metadata": {
        "id": "sTHOA2MF9C5L"
      }
    },
    {
      "cell_type": "code",
      "source": [
        "t = abs((x_avg - y_avg)/np.sqrt(x_var/x_len + y_var/y_len))\n",
        "t"
      ],
      "metadata": {
        "colab": {
          "base_uri": "https://localhost:8080/"
        },
        "id": "RVaUA2_V5LP1",
        "outputId": "ac63a433-3c46-4b12-c55b-884ae0aaafe4"
      },
      "execution_count": null,
      "outputs": [
        {
          "output_type": "execute_result",
          "data": {
            "text/plain": [
              "11.60943581534359"
            ]
          },
          "metadata": {},
          "execution_count": 573
        }
      ]
    },
    {
      "cell_type": "markdown",
      "source": [
        "Для N=71 та a=0.05 tгр = 1.995, і так як обраховане значення 11.60943581534359\n",
        " більше, то з надійністю 95% відхиляємо нульову гіпотезу про рівність обробки даних, і значить швидкість обробки даних у 2 групах *різна*"
      ],
      "metadata": {
        "id": "j2Vzecqp3FfO"
      }
    },
    {
      "cell_type": "markdown",
      "source": [
        "## Завдання 2\n",
        "\n",
        "---\n",
        "\n",
        "Порівняти стабільність показників ціни одиниці товару в мережі магазинів\n",
        "«Т»,Xi та «Р», Yi за І квартал 2016 року."
      ],
      "metadata": {
        "id": "K_6ILNXm-Xg4"
      }
    },
    {
      "cell_type": "code",
      "source": [
        "x_list = {11.43: 12,\n",
        "          11.53: 13,\n",
        "          11.63: 17,\n",
        "          11.73: 14,\n",
        "          11.83: 13,\n",
        "          12.03: 9}\n",
        "\n",
        "y_list = {11.53: 10,\n",
        "          11.63: 10,\n",
        "          11.93: 14,\n",
        "          12.03: 18,\n",
        "          12.23: 15,\n",
        "          12.53: 11}\n",
        "\n",
        "x_data_list = [[key]*value for key, value in x_list.items()]\n",
        "x = sum(x_data_list, [])\n",
        "\n",
        "y_data_list = [[key]*value for key, value in y_list.items()]\n",
        "y = sum(y_data_list, [])"
      ],
      "metadata": {
        "id": "wYno4Had_PrV"
      },
      "execution_count": null,
      "outputs": []
    },
    {
      "cell_type": "markdown",
      "source": [
        "Знаходимо дисперсію для вибірки **Х**"
      ],
      "metadata": {
        "id": "p_7aahXEAXW4"
      }
    },
    {
      "cell_type": "code",
      "source": [
        "x_var = st.variance(x)\n",
        "x_var"
      ],
      "metadata": {
        "colab": {
          "base_uri": "https://localhost:8080/"
        },
        "outputId": "748ef096-c860-4c99-a77c-f5dd2db1922d",
        "id": "zAvsIUVCAXW-"
      },
      "execution_count": null,
      "outputs": [
        {
          "output_type": "execute_result",
          "data": {
            "text/plain": [
              "0.03266233766233766"
            ]
          },
          "metadata": {},
          "execution_count": 575
        }
      ]
    },
    {
      "cell_type": "markdown",
      "source": [
        "Повторюємо це саме для вибірки **Y**"
      ],
      "metadata": {
        "id": "Yz35AUtfAzeB"
      }
    },
    {
      "cell_type": "code",
      "source": [
        "y_var = st.variance(y)\n",
        "y_var"
      ],
      "metadata": {
        "colab": {
          "base_uri": "https://localhost:8080/"
        },
        "outputId": "e7815690-b1fa-4ec8-d9ca-3f1bc1fde9fc",
        "id": "GFXxo-9vAzeB"
      },
      "execution_count": null,
      "outputs": [
        {
          "output_type": "execute_result",
          "data": {
            "text/plain": [
              "0.09797036297036292"
            ]
          },
          "metadata": {},
          "execution_count": 576
        }
      ]
    },
    {
      "cell_type": "markdown",
      "source": [
        "Знаходимо критерій Фішера за формулою\n",
        "\n",
        "![image.png](data:image/png;base64,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)"
      ],
      "metadata": {
        "id": "vaIRksDnA5Fc"
      }
    },
    {
      "cell_type": "code",
      "source": [
        "f = y_var/x_var\n",
        "f"
      ],
      "metadata": {
        "colab": {
          "base_uri": "https://localhost:8080/"
        },
        "id": "NThL8J-1BCHE",
        "outputId": "f7df8129-bd63-43b9-806a-a7a86f33cab3"
      },
      "execution_count": null,
      "outputs": [
        {
          "output_type": "execute_result",
          "data": {
            "text/plain": [
              "2.9994902380588253"
            ]
          },
          "metadata": {},
          "execution_count": 577
        }
      ]
    },
    {
      "cell_type": "code",
      "source": [
        "p_value = stats.f.cdf(f, y_len - 1, x_len - 1)\n",
        "p_value"
      ],
      "metadata": {
        "colab": {
          "base_uri": "https://localhost:8080/"
        },
        "id": "3pm11-jMBUA6",
        "outputId": "bebc455a-b414-4ff8-9ce5-4e152132f9d3"
      },
      "execution_count": null,
      "outputs": [
        {
          "output_type": "execute_result",
          "data": {
            "text/plain": [
              "0.9999961115749126"
            ]
          },
          "metadata": {},
          "execution_count": 578
        }
      ]
    },
    {
      "cell_type": "markdown",
      "source": [
        "Оскільки обрахований F критерій більший за табличний, то гіпотеза відхиляється, і значить стабільність цін товарів значно відрізняються"
      ],
      "metadata": {
        "id": "J4xpxikm3-2h"
      }
    },
    {
      "cell_type": "markdown",
      "source": [
        "## Завдання 3\n",
        "---\n",
        "\n",
        "Підприємство А (Xi) запровадило нову методику ціноутворення продукту Ф. Разом з тим підприємство В (Yi) працює за напрацьованою методикою ціноутворення продукту Ф. Оцінити принципова різниця між методиками ціноутворення продукту Ф на А та В підприємствах"
      ],
      "metadata": {
        "id": "9Kfv3_p0-gbo"
      }
    },
    {
      "cell_type": "code",
      "source": [
        "x_list = {9.82: 10,\n",
        "          9.90: 9,\n",
        "          10.01: 10,\n",
        "          10.24: 11,\n",
        "          10.50: 10,\n",
        "          10.82: 9}\n",
        "\n",
        "y_list = {9.50: 10,\n",
        "          9.56: 10,\n",
        "          9.68: 9,\n",
        "          9.9: 10,\n",
        "          10.03: 11,\n",
        "          10.50: 9,\n",
        "          10.52: 9}\n",
        "\n",
        "x_data_list = [[key]*value for key, value in x_list.items()]\n",
        "x = sum(x_data_list, [])\n",
        "\n",
        "y_data_list = [[key]*value for key, value in y_list.items()]\n",
        "y = sum(y_data_list, [])"
      ],
      "metadata": {
        "id": "CDmdu4RcCmiH"
      },
      "execution_count": null,
      "outputs": []
    },
    {
      "cell_type": "code",
      "source": [
        "x_len = len(x)\n",
        "x_len"
      ],
      "metadata": {
        "colab": {
          "base_uri": "https://localhost:8080/"
        },
        "outputId": "1e526d5b-110b-4c94-c855-3b0befd8f604",
        "id": "Oymm9_XtES2k"
      },
      "execution_count": null,
      "outputs": [
        {
          "output_type": "execute_result",
          "data": {
            "text/plain": [
              "59"
            ]
          },
          "metadata": {},
          "execution_count": 580
        }
      ]
    },
    {
      "cell_type": "code",
      "source": [
        "y_len = len(y)\n",
        "y_len"
      ],
      "metadata": {
        "colab": {
          "base_uri": "https://localhost:8080/"
        },
        "outputId": "1898793b-b763-43fb-c4f5-bda3020bd347",
        "id": "SxqO9eN7ES2l"
      },
      "execution_count": null,
      "outputs": [
        {
          "output_type": "execute_result",
          "data": {
            "text/plain": [
              "68"
            ]
          },
          "metadata": {},
          "execution_count": 581
        }
      ]
    },
    {
      "cell_type": "code",
      "source": [
        "values = x + y\n",
        "ranks = stats.rankdata(values, method='average')"
      ],
      "metadata": {
        "id": "LtKxXG9cEZpE"
      },
      "execution_count": null,
      "outputs": []
    },
    {
      "cell_type": "code",
      "source": [
        "x_ranks = ranks[:len(x)]\n",
        "x_ranks"
      ],
      "metadata": {
        "colab": {
          "base_uri": "https://localhost:8080/"
        },
        "id": "PeQAdn47E2ak",
        "outputId": "ad7893b4-c137-4b8c-956d-c2564026eb70"
      },
      "execution_count": null,
      "outputs": [
        {
          "output_type": "execute_result",
          "data": {
            "text/plain": [
              "array([ 34.5,  34.5,  34.5,  34.5,  34.5,  34.5,  34.5,  34.5,  34.5,\n",
              "        34.5,  49. ,  49. ,  49. ,  49. ,  49. ,  49. ,  49. ,  49. ,\n",
              "        49. ,  63.5,  63.5,  63.5,  63.5,  63.5,  63.5,  63.5,  63.5,\n",
              "        63.5,  63.5,  85. ,  85. ,  85. ,  85. ,  85. ,  85. ,  85. ,\n",
              "        85. ,  85. ,  85. ,  85. , 100. , 100. , 100. , 100. , 100. ,\n",
              "       100. , 100. , 100. , 100. , 100. , 123. , 123. , 123. , 123. ,\n",
              "       123. , 123. , 123. , 123. , 123. ])"
            ]
          },
          "metadata": {},
          "execution_count": 583
        }
      ]
    },
    {
      "cell_type": "code",
      "source": [
        "y_ranks = ranks[len(x):]\n",
        "y_ranks"
      ],
      "metadata": {
        "colab": {
          "base_uri": "https://localhost:8080/"
        },
        "id": "s32m1RmUFJJE",
        "outputId": "997f6b5f-d03e-4926-d4f7-1527c88bdfdd"
      },
      "execution_count": null,
      "outputs": [
        {
          "output_type": "execute_result",
          "data": {
            "text/plain": [
              "array([  5.5,   5.5,   5.5,   5.5,   5.5,   5.5,   5.5,   5.5,   5.5,\n",
              "         5.5,  15.5,  15.5,  15.5,  15.5,  15.5,  15.5,  15.5,  15.5,\n",
              "        15.5,  15.5,  25. ,  25. ,  25. ,  25. ,  25. ,  25. ,  25. ,\n",
              "        25. ,  25. ,  49. ,  49. ,  49. ,  49. ,  49. ,  49. ,  49. ,\n",
              "        49. ,  49. ,  49. ,  74. ,  74. ,  74. ,  74. ,  74. ,  74. ,\n",
              "        74. ,  74. ,  74. ,  74. ,  74. , 100. , 100. , 100. , 100. ,\n",
              "       100. , 100. , 100. , 100. , 100. , 114. , 114. , 114. , 114. ,\n",
              "       114. , 114. , 114. , 114. , 114. ])"
            ]
          },
          "metadata": {},
          "execution_count": 584
        }
      ]
    },
    {
      "cell_type": "code",
      "source": [
        "min(sum(x_ranks), sum(y_ranks))"
      ],
      "metadata": {
        "colab": {
          "base_uri": "https://localhost:8080/"
        },
        "id": "fr4ZqiqoFUE4",
        "outputId": "7b0939af-8830-4d47-83f0-4cb737e84e8c"
      },
      "execution_count": null,
      "outputs": [
        {
          "output_type": "execute_result",
          "data": {
            "text/plain": [
              "3665.0"
            ]
          },
          "metadata": {},
          "execution_count": 585
        }
      ]
    },
    {
      "cell_type": "markdown",
      "source": [
        "Мінімальна сума рангів значно більша за граничне значення критерію, і тому приймаємо нульову гіпотезу, що різниці між методиками суттєвої немає"
      ],
      "metadata": {
        "id": "TLhD_fZb5uWD"
      }
    },
    {
      "cell_type": "markdown",
      "source": [
        "## Завдання 4\n",
        "\n",
        "---\n",
        "На початку впровадження нової комунікаційної стратегії підприємства, отримали такі коефіцієнти обізнаності громадян про дане підприємство (Xi) після впровадження – (Yi).\n",
        "\n",
        "Оцінити різницю між методиками\n"
      ],
      "metadata": {
        "id": "6dPV4nWK-tfo"
      }
    },
    {
      "cell_type": "code",
      "source": [
        "x_list = [0.37, 0.36, 0.34, 0.36, 0.33, 0.35, 0.37, 0.36, 0.35, 0.38, 0.34, 0.33, 0.36, 0.35, 0.37]\n",
        "y_list = [0.35, 0.34, 0.33, 0.37, 0.36, 0.32, 0.34, 0.35, 0.32, 0.34, 0.32, 0.33, 0.38, 0.35, 0.36]"
      ],
      "metadata": {
        "id": "k1BiHuGrGI-2"
      },
      "execution_count": null,
      "outputs": []
    },
    {
      "cell_type": "markdown",
      "source": [
        "Застовуємо критерій знаків"
      ],
      "metadata": {
        "id": "yeKtW2xbliff"
      }
    },
    {
      "cell_type": "code",
      "source": [
        "num_positive_differences = sum((y_value - x_value) > 0 for x_value, y_value in zip(x_list, y_list))\n",
        "num_positive_differences"
      ],
      "metadata": {
        "colab": {
          "base_uri": "https://localhost:8080/"
        },
        "id": "KZckptyZ7CWV",
        "outputId": "617e527a-80a1-40a3-f1a4-e237b368806e"
      },
      "execution_count": null,
      "outputs": [
        {
          "output_type": "execute_result",
          "data": {
            "text/plain": [
              "3"
            ]
          },
          "metadata": {},
          "execution_count": 587
        }
      ]
    },
    {
      "cell_type": "code",
      "source": [
        "num_negative_differences = sum((y_value - x_value) < 0 for x_value, y_value in zip(x_list, y_list))\n",
        "num_negative_differences"
      ],
      "metadata": {
        "colab": {
          "base_uri": "https://localhost:8080/"
        },
        "id": "ZWGBTqPZ7G1O",
        "outputId": "771459e4-31c4-4bc1-a93d-38e2b2b21bd9"
      },
      "execution_count": null,
      "outputs": [
        {
          "output_type": "execute_result",
          "data": {
            "text/plain": [
              "10"
            ]
          },
          "metadata": {},
          "execution_count": 588
        }
      ]
    },
    {
      "cell_type": "code",
      "source": [
        "num_zero_differences = sum((y_value - x_value) == 0 for x_value, y_value in zip(x_list, y_list))\n",
        "n = num_positive_differences + num_negative_differences\n",
        "N=num_positive_differences+num_negative_differences+num_zero_differences\n",
        "N"
      ],
      "metadata": {
        "colab": {
          "base_uri": "https://localhost:8080/"
        },
        "id": "ZB9A032BlpHW",
        "outputId": "0ed46862-1fa4-4e57-fcf9-dae986b25818"
      },
      "execution_count": null,
      "outputs": [
        {
          "output_type": "execute_result",
          "data": {
            "text/plain": [
              "15"
            ]
          },
          "metadata": {},
          "execution_count": 589
        }
      ]
    },
    {
      "cell_type": "code",
      "source": [
        "a = 0.05\n",
        "lower = stats.binom.ppf(a/2, N, 0.5)\n",
        "upper = stats.binom.ppf(1 - a/2, N, 0.5)\n",
        "print(lower, \"-\", upper)"
      ],
      "metadata": {
        "colab": {
          "base_uri": "https://localhost:8080/"
        },
        "id": "JWU0AOHImymy",
        "outputId": "ea153bab-6ed2-4953-8fb2-f5b647d231c1"
      },
      "execution_count": null,
      "outputs": [
        {
          "output_type": "stream",
          "name": "stdout",
          "text": [
            "4.0 - 11.0\n"
          ]
        }
      ]
    },
    {
      "cell_type": "code",
      "source": [
        "stats.binomtest(num_positive_differences, n=n, p=0.5, alternative='two-sided')"
      ],
      "metadata": {
        "colab": {
          "base_uri": "https://localhost:8080/"
        },
        "id": "k1HJWNEWngU_",
        "outputId": "25a9e6ca-d9cb-45e5-afe1-692b206b5bd1"
      },
      "execution_count": null,
      "outputs": [
        {
          "output_type": "execute_result",
          "data": {
            "text/plain": [
              "BinomTestResult(k=3, n=13, alternative='two-sided', statistic=0.23076923076923078, pvalue=0.09228515625)"
            ]
          },
          "metadata": {},
          "execution_count": 591
        }
      ]
    },
    {
      "cell_type": "code",
      "source": [
        "stats.ttest_ind(x, y, alternative=\"greater\")"
      ],
      "metadata": {
        "colab": {
          "base_uri": "https://localhost:8080/"
        },
        "id": "4hcNlcutnlJY",
        "outputId": "4cd33242-03da-4a97-8475-99c6cbce6b06"
      },
      "execution_count": null,
      "outputs": [
        {
          "output_type": "execute_result",
          "data": {
            "text/plain": [
              "TtestResult(statistic=4.061936584472764, pvalue=4.266373921683248e-05, df=125.0)"
            ]
          },
          "metadata": {},
          "execution_count": 592
        }
      ]
    },
    {
      "cell_type": "markdown",
      "source": [
        "Оскільки сума позитивних значень (3) не входить в інтервал 4-10, то значить нульова гіпотеза відхиляється, і є статистично значуща різниця між групами"
      ],
      "metadata": {
        "id": "RS_ozBEy6TpN"
      }
    },
    {
      "cell_type": "markdown",
      "source": [
        "# Лабораторна робота 3\n",
        "\n",
        "---\n",
        "Методи вивчення взаємозв’язків. Кореляційний та дисперсійний аналізи\n"
      ],
      "metadata": {
        "id": "zVsRWSXYn1vL"
      }
    },
    {
      "cell_type": "markdown",
      "source": [
        "## Завдання 1\n",
        "\n",
        "---\n",
        "\n",
        "Оцінити взаємозв’язок між змінними Х та Y за наступними вихідними\n",
        "емпіричними даними:"
      ],
      "metadata": {
        "id": "PS-LzlDFqCTD"
      }
    },
    {
      "cell_type": "code",
      "source": [
        "x_list = [34.53, 35.73, 33.33, 37.43, 28.63]\n",
        "y_list = [6.53, 6.73, 7.13, 6.83, 5.93]"
      ],
      "metadata": {
        "id": "aV0c45QkqTFf"
      },
      "execution_count": null,
      "outputs": []
    },
    {
      "cell_type": "markdown",
      "source": [
        "Для оцінки скористаємось критерієм Пірсона. Для початку обрахуємо середнє значення вибірки Х"
      ],
      "metadata": {
        "id": "HUIorqf2q7zs"
      }
    },
    {
      "cell_type": "code",
      "source": [
        "x_avg = st.mean(x_list)\n",
        "x_avg"
      ],
      "metadata": {
        "colab": {
          "base_uri": "https://localhost:8080/"
        },
        "id": "4bYnVbhArGlC",
        "outputId": "bda48fa3-dcf3-447f-a7d0-8844ffd0b891"
      },
      "execution_count": null,
      "outputs": [
        {
          "output_type": "execute_result",
          "data": {
            "text/plain": [
              "33.93"
            ]
          },
          "metadata": {},
          "execution_count": 594
        }
      ]
    },
    {
      "cell_type": "markdown",
      "source": [
        "І зробимо новий масив, де від кожного значення віднімемо середнє"
      ],
      "metadata": {
        "id": "HsllIVXtq7s1"
      }
    },
    {
      "cell_type": "code",
      "source": [
        "x_diff_list = [el - x_avg for el in x_list]\n",
        "x_diff_list"
      ],
      "metadata": {
        "colab": {
          "base_uri": "https://localhost:8080/"
        },
        "id": "a4PEIUQKrWqy",
        "outputId": "aa9bec8f-f5a5-48ab-fa30-e6fe63a8d000"
      },
      "execution_count": null,
      "outputs": [
        {
          "output_type": "execute_result",
          "data": {
            "text/plain": [
              "[0.6000000000000014,\n",
              " 1.7999999999999972,\n",
              " -0.6000000000000014,\n",
              " 3.5,\n",
              " -5.300000000000001]"
            ]
          },
          "metadata": {},
          "execution_count": 595
        }
      ]
    },
    {
      "cell_type": "markdown",
      "source": [
        "Повторимо це саме для вибірки Y"
      ],
      "metadata": {
        "id": "73ycwwaMrgCy"
      }
    },
    {
      "cell_type": "code",
      "source": [
        "y_avg = st.mean(y_list)\n",
        "y_diff_list = [el - y_avg for el in y_list]\n",
        "y_diff_list"
      ],
      "metadata": {
        "colab": {
          "base_uri": "https://localhost:8080/"
        },
        "id": "SUR9IkbHrjSy",
        "outputId": "91833b48-842a-45d8-807f-c119dd4f24bc"
      },
      "execution_count": null,
      "outputs": [
        {
          "output_type": "execute_result",
          "data": {
            "text/plain": [
              "[-0.09999999999999964,\n",
              " 0.10000000000000053,\n",
              " 0.5,\n",
              " 0.20000000000000018,\n",
              " -0.7000000000000002]"
            ]
          },
          "metadata": {},
          "execution_count": 596
        }
      ]
    },
    {
      "cell_type": "markdown",
      "source": [
        "Знаходимо коефіцієнт"
      ],
      "metadata": {
        "id": "TMbNBvjBrxZW"
      }
    },
    {
      "cell_type": "code",
      "source": [
        "sum([el[0]*el[1] for el in zip(x_diff_list, y_diff_list)])/np.sqrt(sum([el*el for el in x_diff_list]) * sum([el*el for el in y_diff_list]))"
      ],
      "metadata": {
        "colab": {
          "base_uri": "https://localhost:8080/"
        },
        "id": "TMNZvUnQrzmq",
        "outputId": "c98f0ace-5b90-4286-aa41-ccc164e85df3"
      },
      "execution_count": null,
      "outputs": [
        {
          "output_type": "execute_result",
          "data": {
            "text/plain": [
              "0.7105481462726914"
            ]
          },
          "metadata": {},
          "execution_count": 597
        }
      ]
    },
    {
      "cell_type": "markdown",
      "source": [
        "Перевіряємо"
      ],
      "metadata": {
        "id": "MRhKiW0wsAtu"
      }
    },
    {
      "cell_type": "code",
      "source": [
        "np.corrcoef(x_list,y_list)[0, 1]"
      ],
      "metadata": {
        "colab": {
          "base_uri": "https://localhost:8080/"
        },
        "id": "Q5l8hixesCxo",
        "outputId": "ad60c810-2be5-4977-917f-162b56cc58bd"
      },
      "execution_count": null,
      "outputs": [
        {
          "output_type": "execute_result",
          "data": {
            "text/plain": [
              "0.7105481462726913"
            ]
          },
          "metadata": {},
          "execution_count": 598
        }
      ]
    },
    {
      "cell_type": "markdown",
      "source": [
        "Так як 0.71 більше за 0.7, але менше за 0.9, то значить між вибірками є висока позитивна кореляційна залежність. Критичним значенням є 0.878, що більше за отримане значення, і тому залежність є недостовірною\n"
      ],
      "metadata": {
        "id": "cXSP-XL073Oy"
      }
    },
    {
      "cell_type": "markdown",
      "source": [
        "## Завдання 2\n",
        "\n",
        "---\n",
        "\n",
        "Потрібно визначити силу зв’язку між вартістю основних виробничих фондів Xi (тис.грн.) і продуктивністю одного робітника Yi (тис.грн.)"
      ],
      "metadata": {
        "id": "XwpVtzhvsafv"
      }
    },
    {
      "cell_type": "code",
      "source": [
        "x_list = [181.33, 180.33, 181.33, 185.33, 192.33, 182.33, 193.33, 186.33]\n",
        "y_list = [9.33, 10.33, 11.33, 12.33, 2.33, 7.33, 5.33, 4.33]"
      ],
      "metadata": {
        "id": "zj041MHrsedG"
      },
      "execution_count": null,
      "outputs": []
    },
    {
      "cell_type": "markdown",
      "source": [
        "Знайдемо ранги вибірок"
      ],
      "metadata": {
        "id": "v34NKLWntbiq"
      }
    },
    {
      "cell_type": "code",
      "source": [
        "x_ranks = stats.rankdata(x_list, method='average')\n",
        "x_ranks"
      ],
      "metadata": {
        "colab": {
          "base_uri": "https://localhost:8080/"
        },
        "id": "DVD_9VDhtf9u",
        "outputId": "b36417d0-5913-4db1-ff2b-d2676e579eee"
      },
      "execution_count": null,
      "outputs": [
        {
          "output_type": "execute_result",
          "data": {
            "text/plain": [
              "array([2.5, 1. , 2.5, 5. , 7. , 4. , 8. , 6. ])"
            ]
          },
          "metadata": {},
          "execution_count": 600
        }
      ]
    },
    {
      "cell_type": "code",
      "source": [
        "y_ranks = stats.rankdata(y_list, method='average')\n",
        "y_ranks"
      ],
      "metadata": {
        "colab": {
          "base_uri": "https://localhost:8080/"
        },
        "id": "WATh9zuqtkN_",
        "outputId": "3dedb876-8ab0-4c2e-c6e4-7e3a1b048eda"
      },
      "execution_count": null,
      "outputs": [
        {
          "output_type": "execute_result",
          "data": {
            "text/plain": [
              "array([5., 6., 7., 8., 1., 4., 3., 2.])"
            ]
          },
          "metadata": {},
          "execution_count": 601
        }
      ]
    },
    {
      "cell_type": "markdown",
      "source": [
        "Порахуємо різницю рангів"
      ],
      "metadata": {
        "id": "d3eDgoe1twb2"
      }
    },
    {
      "cell_type": "code",
      "source": [
        "ranks_diff = [(el[0] - el[1])**2 for el in zip(x_ranks, y_ranks)]\n",
        "ranks_diff"
      ],
      "metadata": {
        "colab": {
          "base_uri": "https://localhost:8080/"
        },
        "id": "R5TjokqRt0Km",
        "outputId": "a6bb5e33-32ab-44a8-a3d6-da4635a22bf2"
      },
      "execution_count": null,
      "outputs": [
        {
          "output_type": "execute_result",
          "data": {
            "text/plain": [
              "[6.25, 25.0, 20.25, 9.0, 36.0, 0.0, 25.0, 16.0]"
            ]
          },
          "metadata": {},
          "execution_count": 602
        }
      ]
    },
    {
      "cell_type": "markdown",
      "source": [
        "Знайдемо кількість кореляційних пар"
      ],
      "metadata": {
        "id": "XnVbmdlUt2s2"
      }
    },
    {
      "cell_type": "code",
      "source": [
        "n = len(list(zip(x_ranks, y_ranks)))\n",
        "n"
      ],
      "metadata": {
        "colab": {
          "base_uri": "https://localhost:8080/"
        },
        "id": "hnCCXINnt5tm",
        "outputId": "5d3f3aeb-60bf-44b0-b785-e24de613f771"
      },
      "execution_count": null,
      "outputs": [
        {
          "output_type": "execute_result",
          "data": {
            "text/plain": [
              "8"
            ]
          },
          "metadata": {},
          "execution_count": 603
        }
      ]
    },
    {
      "cell_type": "markdown",
      "source": [
        "Обрахуємо коефіцієнт кореляції Спірмена"
      ],
      "metadata": {
        "id": "7VEIvvsEt9Ae"
      }
    },
    {
      "cell_type": "code",
      "source": [
        "1 - 6*sum(ranks_diff) / (n*(n**2 - 1))"
      ],
      "metadata": {
        "colab": {
          "base_uri": "https://localhost:8080/"
        },
        "id": "D_s7tJ0IuBsu",
        "outputId": "e04024c6-cd96-4c5e-e238-d2837534c333"
      },
      "execution_count": null,
      "outputs": [
        {
          "output_type": "execute_result",
          "data": {
            "text/plain": [
              "-0.6369047619047619"
            ]
          },
          "metadata": {},
          "execution_count": 604
        }
      ]
    },
    {
      "cell_type": "markdown",
      "source": [
        "Обрахуємо за допомогою готової функції"
      ],
      "metadata": {
        "id": "iCxpAf8vuFzV"
      }
    },
    {
      "cell_type": "code",
      "source": [
        "stats.spearmanr(x_list, y_list)"
      ],
      "metadata": {
        "colab": {
          "base_uri": "https://localhost:8080/"
        },
        "id": "VAtPWSGXuKvy",
        "outputId": "3f0daf5c-e570-4cd9-8a7d-d2bb52b7cc80"
      },
      "execution_count": null,
      "outputs": [
        {
          "output_type": "execute_result",
          "data": {
            "text/plain": [
              "SignificanceResult(statistic=-0.6467181814331598, pvalue=0.08308772479827897)"
            ]
          },
          "metadata": {},
          "execution_count": 605
        }
      ]
    },
    {
      "cell_type": "markdown",
      "source": [
        "Коефіцієнт вказує, що існує негативний зв'язок, тобто зі збільшенням вартості виробничих фондів продуктивність робітника знижується. Також pvalue більше за 0.05, що означає що зв'язок не є статистично значущим на рівні довіри 95%\n",
        "\n",
        "\n",
        "\n"
      ],
      "metadata": {
        "id": "mqZ1p-iA8NKG"
      }
    },
    {
      "cell_type": "markdown",
      "source": [
        "## Завдання 3\n",
        "---\n",
        "\n",
        "Оцінити відмінність значень середніх арифметичних в групах"
      ],
      "metadata": {
        "id": "WNu7RE9tuYqz"
      }
    },
    {
      "cell_type": "code",
      "source": [
        "x_list = [83,80,97,87,94,90,94,91,88,107,95,89,105,90,80,99,94]\n",
        "y_list = [104,97,90,96,90,71,90,86,90,86,76,81,91,72,84,80,72,90,78,90]\n",
        "z_list = [104,92,106,79,83,98,99,89,93,96,94,89,94,90,96,99,97,93,87]\n"
      ],
      "metadata": {
        "id": "fjVykRjeuc4S"
      },
      "execution_count": null,
      "outputs": []
    },
    {
      "cell_type": "markdown",
      "source": [
        "Знаходимо розміри вибірок"
      ],
      "metadata": {
        "id": "Po7pLOPOvlIO"
      }
    },
    {
      "cell_type": "code",
      "source": [
        "x_size = len(x_list)\n",
        "x_size"
      ],
      "metadata": {
        "colab": {
          "base_uri": "https://localhost:8080/"
        },
        "id": "UWz0KAafyChy",
        "outputId": "d6330a55-0ee5-4119-994c-fd285b5cdaac"
      },
      "execution_count": null,
      "outputs": [
        {
          "output_type": "execute_result",
          "data": {
            "text/plain": [
              "17"
            ]
          },
          "metadata": {},
          "execution_count": 607
        }
      ]
    },
    {
      "cell_type": "code",
      "source": [
        "y_size = len(y_list)\n",
        "y_size"
      ],
      "metadata": {
        "colab": {
          "base_uri": "https://localhost:8080/"
        },
        "outputId": "4ec2aae8-abf2-4bba-c320-271704c26aa5",
        "id": "Th_CJrthyH8C"
      },
      "execution_count": null,
      "outputs": [
        {
          "output_type": "execute_result",
          "data": {
            "text/plain": [
              "20"
            ]
          },
          "metadata": {},
          "execution_count": 608
        }
      ]
    },
    {
      "cell_type": "code",
      "source": [
        "z_size = len(z_list)\n",
        "z_size"
      ],
      "metadata": {
        "colab": {
          "base_uri": "https://localhost:8080/"
        },
        "outputId": "a22b6889-77ac-4c92-b726-3c796efbd1ff",
        "id": "ruteW0a5yIDW"
      },
      "execution_count": null,
      "outputs": [
        {
          "output_type": "execute_result",
          "data": {
            "text/plain": [
              "19"
            ]
          },
          "metadata": {},
          "execution_count": 609
        }
      ]
    },
    {
      "cell_type": "markdown",
      "source": [
        "Знаходимо суму довжин вибірок"
      ],
      "metadata": {
        "id": "xp_X_pU1-mED"
      }
    },
    {
      "cell_type": "code",
      "source": [
        "x_size+y_size+z_size"
      ],
      "metadata": {
        "colab": {
          "base_uri": "https://localhost:8080/"
        },
        "id": "7gbe2yoZ-rHU",
        "outputId": "162c70c8-5411-4d21-ae75-79727657e17d"
      },
      "execution_count": null,
      "outputs": [
        {
          "output_type": "execute_result",
          "data": {
            "text/plain": [
              "56"
            ]
          },
          "metadata": {},
          "execution_count": 610
        }
      ]
    },
    {
      "cell_type": "markdown",
      "source": [
        "Знаходимо середні"
      ],
      "metadata": {
        "id": "ztdEyhdfyyZH"
      }
    },
    {
      "cell_type": "code",
      "source": [
        "x_avg = st.mean(x_list)\n",
        "x_avg"
      ],
      "metadata": {
        "colab": {
          "base_uri": "https://localhost:8080/"
        },
        "id": "6tIzvK92y1M_",
        "outputId": "3cdca04f-b23f-4585-e564-e6df884d9982"
      },
      "execution_count": null,
      "outputs": [
        {
          "output_type": "execute_result",
          "data": {
            "text/plain": [
              "91.94117647058823"
            ]
          },
          "metadata": {},
          "execution_count": 611
        }
      ]
    },
    {
      "cell_type": "code",
      "source": [
        "y_avg = st.mean(y_list)\n",
        "y_avg"
      ],
      "metadata": {
        "colab": {
          "base_uri": "https://localhost:8080/"
        },
        "outputId": "945c05c6-00f0-455e-b82e-721fa545abb5",
        "id": "NtD3ox75zC-l"
      },
      "execution_count": null,
      "outputs": [
        {
          "output_type": "execute_result",
          "data": {
            "text/plain": [
              "85.7"
            ]
          },
          "metadata": {},
          "execution_count": 612
        }
      ]
    },
    {
      "cell_type": "code",
      "source": [
        "z_avg = st.mean(z_list)\n",
        "z_avg"
      ],
      "metadata": {
        "colab": {
          "base_uri": "https://localhost:8080/"
        },
        "outputId": "96db9769-dbad-4365-bc15-58fa059bceab",
        "id": "9ZBgHjCIzDKo"
      },
      "execution_count": null,
      "outputs": [
        {
          "output_type": "execute_result",
          "data": {
            "text/plain": [
              "93.57894736842105"
            ]
          },
          "metadata": {},
          "execution_count": 613
        }
      ]
    },
    {
      "cell_type": "markdown",
      "source": [
        "Знаходимо середнє відхилення"
      ],
      "metadata": {
        "id": "ed7gbvcZzZGS"
      }
    },
    {
      "cell_type": "code",
      "source": [
        "x_var = st.stdev(x_list)\n",
        "x_var"
      ],
      "metadata": {
        "colab": {
          "base_uri": "https://localhost:8080/"
        },
        "id": "5rW4CR8TzgD5",
        "outputId": "7d58e5df-bf16-4f70-8eac-a340c640a49e"
      },
      "execution_count": null,
      "outputs": [
        {
          "output_type": "execute_result",
          "data": {
            "text/plain": [
              "7.5702591454594055"
            ]
          },
          "metadata": {},
          "execution_count": 614
        }
      ]
    },
    {
      "cell_type": "code",
      "source": [
        "y_var = st.stdev(y_list)\n",
        "y_var"
      ],
      "metadata": {
        "colab": {
          "base_uri": "https://localhost:8080/"
        },
        "outputId": "74542671-8e25-4516-ca23-ffad9237b99d",
        "id": "USp-HWlAzn4n"
      },
      "execution_count": null,
      "outputs": [
        {
          "output_type": "execute_result",
          "data": {
            "text/plain": [
              "8.91539177637841"
            ]
          },
          "metadata": {},
          "execution_count": 615
        }
      ]
    },
    {
      "cell_type": "code",
      "source": [
        "z_var = st.stdev(z_list)\n",
        "z_var"
      ],
      "metadata": {
        "colab": {
          "base_uri": "https://localhost:8080/"
        },
        "outputId": "c71be69d-1998-4200-c2ca-503423ac933c",
        "id": "kK98PWYgzoGO"
      },
      "execution_count": null,
      "outputs": [
        {
          "output_type": "execute_result",
          "data": {
            "text/plain": [
              "6.6275166245123165"
            ]
          },
          "metadata": {},
          "execution_count": 616
        }
      ]
    },
    {
      "cell_type": "markdown",
      "source": [
        "Обраховуємо загальне середнє"
      ],
      "metadata": {
        "id": "SisWyCWzz2fS"
      }
    },
    {
      "cell_type": "code",
      "source": [
        "avg = (x_size * x_avg + y_size * y_avg + z_size * z_avg)/(x_size + y_size + z_size)\n",
        "avg"
      ],
      "metadata": {
        "colab": {
          "base_uri": "https://localhost:8080/"
        },
        "id": "WIwNF70Mz8SJ",
        "outputId": "157ba065-2694-47a3-b31c-9dd1bfe99a30"
      },
      "execution_count": null,
      "outputs": [
        {
          "output_type": "execute_result",
          "data": {
            "text/plain": [
              "90.26785714285714"
            ]
          },
          "metadata": {},
          "execution_count": 617
        }
      ]
    },
    {
      "cell_type": "markdown",
      "source": [
        "Обраховуємо групову варіацію"
      ],
      "metadata": {
        "id": "JogeJ0ik1R4U"
      }
    },
    {
      "cell_type": "code",
      "source": [
        "var = (\n",
        "    x_size * (x_avg - avg) ** 2\n",
        "    + y_size * (y_avg - avg) ** 2\n",
        "    + z_size * (z_avg - avg) ** 2\n",
        "    ) / 3 - 1\n",
        "var"
      ],
      "metadata": {
        "colab": {
          "base_uri": "https://localhost:8080/"
        },
        "id": "2TQrxIVg1Wjz",
        "outputId": "1f7c1d71-7988-4e8f-b6c4-d10c9db4ec3a"
      },
      "execution_count": null,
      "outputs": [
        {
          "output_type": "execute_result",
          "data": {
            "text/plain": [
              "223.40312914639526"
            ]
          },
          "metadata": {},
          "execution_count": 618
        }
      ]
    },
    {
      "cell_type": "markdown",
      "source": [
        "Обраховуємо внутрішньогрупову варіацію"
      ],
      "metadata": {
        "id": "c5YK75Yz1nOC"
      }
    },
    {
      "cell_type": "code",
      "source": [
        "var_in = (\n",
        "    (x_size - 1) * x_var ** 2\n",
        "    + (y_size - 1) * y_var ** 2\n",
        "    + (z_size - 1) * z_var ** 2\n",
        "    ) / (x_size + y_size + z_size - 3)\n",
        "var_in"
      ],
      "metadata": {
        "colab": {
          "base_uri": "https://localhost:8080/"
        },
        "id": "RDlra80A1sO9",
        "outputId": "f0cd85d6-7a69-47ab-ec4c-69e7de5eb13f"
      },
      "execution_count": null,
      "outputs": [
        {
          "output_type": "execute_result",
          "data": {
            "text/plain": [
              "60.712693498452005"
            ]
          },
          "metadata": {},
          "execution_count": 619
        }
      ]
    },
    {
      "cell_type": "markdown",
      "source": [
        "Знаходимо F-статистику"
      ],
      "metadata": {
        "id": "zh27CZib1_Y4"
      }
    },
    {
      "cell_type": "code",
      "source": [
        "var/var_in"
      ],
      "metadata": {
        "colab": {
          "base_uri": "https://localhost:8080/"
        },
        "id": "0cKz78a-2CQl",
        "outputId": "e8eab202-c616-4051-882d-f4d7250f18f7"
      },
      "execution_count": null,
      "outputs": [
        {
          "output_type": "execute_result",
          "data": {
            "text/plain": [
              "3.679677449199176"
            ]
          },
          "metadata": {},
          "execution_count": 620
        }
      ]
    },
    {
      "cell_type": "markdown",
      "source": [
        "Оскільки це значення більше за критичне, яке рівне 3.2, то результат є значущим і вибірки відрізняються\n",
        "\n",
        "\n"
      ],
      "metadata": {
        "id": "HnYmhtvS96FF"
      }
    }
  ]
}